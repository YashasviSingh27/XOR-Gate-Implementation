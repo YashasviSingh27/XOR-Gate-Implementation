{
 "cells": [
  {
   "cell_type": "code",
   "execution_count": 1,
   "metadata": {},
   "outputs": [],
   "source": [
    "import numpy as np"
   ]
  },
  {
   "cell_type": "code",
   "execution_count": 27,
   "metadata": {},
   "outputs": [
    {
     "name": "stdout",
     "output_type": "stream",
     "text": [
      "Randomly Generating Weights\n",
      "[[-0.16595599]\n",
      " [ 0.44064899]\n",
      " [-0.99977125]]\n",
      "Weights After Training: \n",
      "[[ 0.05075967]\n",
      " [ 0.11553821]\n",
      " [-0.09714324]]\n",
      "Enter Input 1: \t1\n",
      "Enter Input 2: \t1\n",
      "Enter Input 3: \t1\n",
      "With Inputs Values 1 , 1 , 1\n",
      "New Output Data:\n",
      "[0.51728177]\n"
     ]
    }
   ],
   "source": [
    "# For 2 variables\n",
    "class NeuralNetwork():\n",
    "    def __init__(self):\n",
    "        np.random.seed(1)\n",
    "        self.weights = 2*np.random.random((3,1))-1\n",
    "    def sigmoid(self,x):\n",
    "        return 1/(1+np.exp(-x))\n",
    "    def sigmoidDerivative(self,x):\n",
    "        return x*(1-x)\n",
    "    def train(self,training_inputs,training_outputs,training_iterations):\n",
    "        for itr in range(training_iterations):\n",
    "            output = self.think(training_inputs)\n",
    "            error = training_outputs-output\n",
    "            adjustments = np.dot(training_inputs.T,error*self.sigmoidDerivative(output))\n",
    "            self.weights += adjustments\n",
    "    def think(self,inputs):\n",
    "        inputs = inputs.astype(float)\n",
    "        output = self.sigmoid(np.dot(inputs,self.weights))\n",
    "        return output\n",
    "    \n",
    "if __name__ == '__main__':\n",
    "    nn = NeuralNetwork()\n",
    "    print('Randomly Generating Weights')\n",
    "    print(nn.weights)\n",
    "    trainingInputs = np.array([[0,0,1],[0,1,1],[1,0,1],[1,1,1]])\n",
    "    trainingOutput = np.array([[0,1,1,0]]).T\n",
    "    nn.train(trainingInputs,trainingOutput,40)\n",
    "    print('Weights After Training: ')\n",
    "    print(nn.weights)\n",
    "    input1 = str(input('Enter Input 1: \\t'))\n",
    "    input2 = str(input('Enter Input 2: \\t'))\n",
    "    input3 = str(input('Enter Input 3: \\t'))\n",
    "    print(f'With Inputs Values {input1} , {input2} , {input3}')\n",
    "    print('New Output Data:')\n",
    "    print(nn.think(np.array([input1,input2,input3])))"
   ]
  },
  {
   "cell_type": "code",
   "execution_count": 25,
   "metadata": {},
   "outputs": [
    {
     "name": "stdout",
     "output_type": "stream",
     "text": [
      "Randomly Generating Weights\n",
      "[[-0.16595599]\n",
      " [ 0.44064899]\n",
      " [-0.99977125]\n",
      " [-0.39533485]]\n",
      "Weights After Training: \n",
      "[[ 2.88238853e-08]\n",
      " [ 2.88250223e-08]\n",
      " [ 2.88202214e-08]\n",
      " [-4.99229749e-08]]\n",
      "Enter Input 1: \t1\n",
      "Enter Input 2: \t1\n",
      "Enter Input 3: \t1\n",
      "Enter Input 4: \t1\n",
      "With Inputs Values 1 , 1 , 1 , 1\n",
      "New Output Data:\n",
      "[0.50000001]\n"
     ]
    }
   ],
   "source": [
    "class NeuralNetwork():\n",
    "    def __init__(self):\n",
    "        np.random.seed(1)\n",
    "        self.weights = 2*np.random.random((4,1))-1\n",
    "    def sigmoid(self,x):\n",
    "        return 1/(1+np.exp(-x))\n",
    "    def sigmoidDerivative(self,x):\n",
    "        return x*(1-x)\n",
    "    def train(self,training_inputs,training_outputs,training_iterations):\n",
    "        for itr in range(training_iterations):\n",
    "            output = self.think(training_inputs)\n",
    "            error = training_outputs-output\n",
    "            adjustments = np.dot(training_inputs.T,error*self.sigmoidDerivative(output))\n",
    "            self.weights += adjustments\n",
    "    def think(self,inputs):\n",
    "        inputs = inputs.astype(float)\n",
    "        output = self.sigmoid(np.dot(inputs,self.weights))\n",
    "        return output\n",
    "    \n",
    "if __name__ == '__main__':\n",
    "    nn = NeuralNetwork()\n",
    "    print('Randomly Generating Weights')\n",
    "    print(nn.weights)\n",
    "    trainingInputs = np.array([[0,0,0,1],\n",
    "                               [0,0,1,1],\n",
    "                               [0,1,0,1],\n",
    "                               [0,1,1,1],\n",
    "                               [1,0,0,1],\n",
    "                               [1,0,1,1],\n",
    "                               [1,1,0,1],\n",
    "                               [1,1,1,1]])\n",
    "    trainingOutput = np.array([[0,1,1,0,1,0,0,1]]).T\n",
    "    nn.train(trainingInputs,trainingOutput,200)\n",
    "    print('Weights After Training: ')\n",
    "    print(nn.weights)\n",
    "    input1 = str(input('Enter Input 1: \\t'))\n",
    "    input2 = str(input('Enter Input 2: \\t'))\n",
    "    input3 = str(input('Enter Input 3: \\t'))\n",
    "    input4 = str(input('Enter Input 4: \\t'))\n",
    "    print(f'With Inputs Values {input1} , {input2} , {input3} , {input4}')\n",
    "    print('New Output Data:')\n",
    "    print(nn.think(np.array([input1,input2,input3,input4])))"
   ]
  },
  {
   "cell_type": "markdown",
   "metadata": {},
   "source": []
  },
  {
   "cell_type": "code",
   "execution_count": null,
   "metadata": {},
   "outputs": [],
   "source": []
  }
 ],
 "metadata": {
  "kernelspec": {
   "display_name": "Python 3",
   "language": "python",
   "name": "python3"
  },
  "language_info": {
   "codemirror_mode": {
    "name": "ipython",
    "version": 3
   },
   "file_extension": ".py",
   "mimetype": "text/x-python",
   "name": "python",
   "nbconvert_exporter": "python",
   "pygments_lexer": "ipython3",
   "version": "3.8.5"
  }
 },
 "nbformat": 4,
 "nbformat_minor": 4
}
